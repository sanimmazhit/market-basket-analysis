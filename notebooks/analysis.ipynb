{
  "nbformat": 4,
  "nbformat_minor": 0,
  "metadata": {
    "colab": {
      "provenance": [],
      "authorship_tag": "ABX9TyNvFhnCBuXr6+IqbNtHCe9B",
      "include_colab_link": true
    },
    "kernelspec": {
      "name": "python3",
      "display_name": "Python 3"
    },
    "language_info": {
      "name": "python"
    }
  },
  "cells": [
    {
      "cell_type": "markdown",
      "metadata": {
        "id": "view-in-github",
        "colab_type": "text"
      },
      "source": [
        "<a href=\"https://colab.research.google.com/github/sanimmazhit/market-basket-analysis/blob/main/notebooks/analysis.ipynb\" target=\"_parent\"><img src=\"https://colab.research.google.com/assets/colab-badge.svg\" alt=\"Open In Colab\"/></a>"
      ]
    },
    {
      "cell_type": "code",
      "execution_count": null,
      "metadata": {
        "id": "qLSOhkMNvyeY",
        "outputId": "1b35943d-9aa4-459d-92a4-755f3d240c2b",
        "colab": {
          "base_uri": "https://localhost:8080/"
        }
      },
      "outputs": [
        {
          "output_type": "stream",
          "name": "stdout",
          "text": [
            "Dataset URL: https://www.kaggle.com/datasets/mohamedbakhet/amazon-books-reviews\n",
            "License(s): CC0-1.0\n",
            "Downloading amazon-books-reviews.zip to /content\n",
            " 98% 1.04G/1.06G [00:05<00:00, 147MB/s]\n",
            "100% 1.06G/1.06G [00:05<00:00, 198MB/s]\n",
            "Archive:  amazon-books-reviews.zip\n",
            "  inflating: data/Books_rating.csv   "
          ]
        }
      ],
      "source": [
        "# Import libraries\n",
        "import os\n",
        "import pandas as pd\n",
        "\n",
        "# Kaggle credentials (use your own for local testing)\n",
        "os.environ['KAGGLE_USERNAME'] = \"xxxxxx\"\n",
        "os.environ['KAGGLE_KEY'] = \"xxxxxx\"\n",
        "\n",
        "# Download dataset from Kaggle\n",
        "!kaggle datasets download -d mohamedbakhet/amazon-books-reviews\n",
        "\n",
        "# Unzip into 'data' folder\n",
        "!unzip -o amazon-books-reviews.zip -d data/\n"
      ]
    },
    {
      "cell_type": "code",
      "source": [
        "# Load the dataset\n",
        "df = pd.read_csv('data/Books_rating.csv')\n",
        "\n",
        "# Use a subsample while testing to avoid Colab crashes\n",
        "USE_SUBSAMPLE = True\n",
        "\n",
        "if USE_SUBSAMPLE:\n",
        "    df = df.sample(frac=0.05, random_state=42)  # 5% of the data\n",
        "\n",
        "# Quick look at the data\n",
        "df.head()\n"
      ],
      "metadata": {
        "id": "_HL8HkcnM1H7"
      },
      "execution_count": null,
      "outputs": []
    }
  ]
}